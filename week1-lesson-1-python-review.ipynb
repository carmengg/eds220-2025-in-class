{
 "cells": [
  {
   "cell_type": "markdown",
   "id": "9dd18f01-a41e-4540-84d3-e32c02d851f6",
   "metadata": {},
   "source": [
    "# Python review\n",
    "\n",
    "Goals:\n",
    "- recall basic Python vocabulary\n",
    "- practice markdown\n",
    "\n",
    "## Libraries and packages\n",
    "\n",
    "**library**: a collection of code that we can use to perform specific tasks in our programs. \n",
    "\n",
    "**NumPy**:\n",
    "- core library for numerical computing in Python\n",
    "- many other libraries use NumPy arrays as building blocks\n",
    "- computations on NumPy are optiomized for speed and memory usage\n",
    "\n",
    "Let's import NumPy with **standard abbreviation**\n",
    "\n",
    "*Trial update.*"
   ]
  },
  {
   "cell_type": "code",
   "execution_count": 1,
   "id": "aabd2485-99ea-4fcb-8125-b89f509ec57f",
   "metadata": {
    "tags": []
   },
   "outputs": [],
   "source": [
    "import numpy as np"
   ]
  },
  {
   "cell_type": "markdown",
   "id": "3722f5da-8de5-4406-9fd8-f4a991963ee2",
   "metadata": {},
   "source": [
    "## Variables \n",
    "\n",
    "**variable**: a name we assign to a particular object in Python \n",
    "\n",
    "Example:"
   ]
  },
  {
   "cell_type": "code",
   "execution_count": 2,
   "id": "8a909e5f-74df-4a97-8a13-103a3afb17c9",
   "metadata": {
    "tags": []
   },
   "outputs": [],
   "source": [
    "# Assign a small array to a variable a\n",
    "a = np.array([[1,1,2],[3,5,8]])"
   ]
  },
  {
   "cell_type": "code",
   "execution_count": 3,
   "id": "2225a578-ac55-4e34-98cb-23e700b4bb60",
   "metadata": {
    "tags": []
   },
   "outputs": [
    {
     "data": {
      "text/plain": [
       "array([[1, 1, 2],\n",
       "       [3, 5, 8]])"
      ]
     },
     "execution_count": 3,
     "metadata": {},
     "output_type": "execute_result"
    }
   ],
   "source": [
    "# Run cell with the variable name to show value\n",
    "a"
   ]
  },
  {
   "cell_type": "code",
   "execution_count": 4,
   "id": "390bada3-681d-4676-abb2-d2daf460b97f",
   "metadata": {
    "tags": []
   },
   "outputs": [
    {
     "name": "stdout",
     "output_type": "stream",
     "text": [
      "[[1 1 2]\n",
      " [3 5 8]]\n"
     ]
    }
   ],
   "source": [
    "# Use `print` function to print the value\n",
    "print(a)"
   ]
  },
  {
   "cell_type": "markdown",
   "id": "4153b668-cc9d-4566-b966-187174cfd634",
   "metadata": {},
   "source": [
    "## Objects\n",
    "\n",
    "**object** (informally speaking) is a bundle of *properties* and *actions* about something specific. \n",
    "\n",
    "Example:\n",
    "\n",
    "Object: data frame\n",
    "\n",
    "Properties: number rows, names of the columns, date created\n",
    "\n",
    "Actions: selecting a specific row, adding a new column \n",
    "\n",
    "A variable is the name we give a specific object, and the same object can be referenced by different variables. \n",
    "\n",
    "In practice, we can often use variable and object interchangeably. "
   ]
  }
 ],
 "metadata": {
  "kernelspec": {
   "display_name": "EDS220",
   "language": "python",
   "name": "eds220-env"
  },
  "language_info": {
   "codemirror_mode": {
    "name": "ipython",
    "version": 3
   },
   "file_extension": ".py",
   "mimetype": "text/x-python",
   "name": "python",
   "nbconvert_exporter": "python",
   "pygments_lexer": "ipython3",
   "version": "3.11.4"
  }
 },
 "nbformat": 4,
 "nbformat_minor": 5
}
